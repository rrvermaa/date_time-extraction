{
 "cells": [
  {
   "cell_type": "code",
   "execution_count": 1,
   "id": "4c1eca4e",
   "metadata": {},
   "outputs": [],
   "source": [
    "import pytesseract\n",
    "import cv2"
   ]
  },
  {
   "cell_type": "code",
   "execution_count": 61,
   "id": "9bb284e5",
   "metadata": {},
   "outputs": [
    {
     "name": "stdout",
     "output_type": "stream",
     "text": [
      "(1920, 1080)\n",
      "(0, 0, 1920, 1080)\n",
      "(250, 898, 680, 950)\n",
      "(0, 0, 1920, 1080)\n"
     ]
    }
   ],
   "source": [
    "from PIL import Image\n",
    "import sys\n",
    "\n",
    "image=Image.open('images/Screenshot (17).png')\n",
    "image.load()\n",
    "\n",
    "imageSize = image.size\n",
    "imageBox = image.getbbox()\n",
    "imageComponents = image.split()\n",
    "rgbImage = Image.new(\"RGB\", imageSize, (0,0,0))\n",
    "print(imageSize)\n",
    "print(imageBox)\n",
    "# imageComponent=img[50:180, 100:300]\n",
    "\n",
    "rgbImage.paste(image, mask=imageComponents[1])\n",
    "# print(rgbImage)\n",
    "croppedBox = rgbImage.getbbox()\n",
    "# print(imageBox)\n",
    "croppedBoxa=250,898,680,950\n",
    "print(croppedBoxa)\n",
    "print(croppedBox)\n",
    "if imageBox != croppedBoxa:\n",
    "    \n",
    "    cropped=image.crop(croppedBoxa)\n",
    "    print('L_2d.png:', \"Size:\", imageSize, \"New Size:\",croppedBoxa)\n",
    "    cropped.save('images/cropped.png')\n",
    "    cropped.show()"
   ]
  },
  {
   "cell_type": "code",
   "execution_count": 63,
   "id": "b5cc9d7d",
   "metadata": {},
   "outputs": [],
   "source": [
    "c_image=cv2.imread('images/cropped.png')\n",
    "copy_image= c_image.copy()"
   ]
  },
  {
   "cell_type": "code",
   "execution_count": null,
   "id": "e12d5d84",
   "metadata": {},
   "outputs": [],
   "source": [
    "data= pytesseract.image_to_string(c_image)"
   ]
  },
  {
   "cell_type": "code",
   "execution_count": 75,
   "id": "95eeaa8e",
   "metadata": {},
   "outputs": [
    {
     "name": "stdout",
     "output_type": "stream",
     "text": [
      "12/28/2022 04:11:47 PM\n",
      "\f",
      "\n"
     ]
    }
   ],
   "source": [
    "print(data)"
   ]
  },
  {
   "cell_type": "code",
   "execution_count": null,
   "id": "b13f705e",
   "metadata": {},
   "outputs": [],
   "source": []
  },
  {
   "cell_type": "code",
   "execution_count": null,
   "id": "f869ef87",
   "metadata": {},
   "outputs": [],
   "source": []
  }
 ],
 "metadata": {
  "kernelspec": {
   "display_name": "Python 3 (ipykernel)",
   "language": "python",
   "name": "python3"
  },
  "language_info": {
   "codemirror_mode": {
    "name": "ipython",
    "version": 3
   },
   "file_extension": ".py",
   "mimetype": "text/x-python",
   "name": "python",
   "nbconvert_exporter": "python",
   "pygments_lexer": "ipython3",
   "version": "3.9.13"
  }
 },
 "nbformat": 4,
 "nbformat_minor": 5
}
